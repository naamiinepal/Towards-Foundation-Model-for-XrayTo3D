{
 "cells": [
  {
   "cell_type": "code",
   "execution_count": null,
   "metadata": {},
   "outputs": [],
   "source": [
    "import ipyvolume as ipv\n",
    "import matplotlib.pyplot as plt\n",
    "import torch\n",
    "from torch.utils.data import DataLoader\n",
    "\n",
    "from XrayTo3DShape import (\n",
    "    AttentionUnet,\n",
    "    VolumeAsInputExperiment,\n",
    "    get_dataset,\n",
    "    get_model,\n",
    "    get_transform_from_model_name,\n",
    "    modify_checkpoint_keys,\n",
    ")"
   ]
  },
  {
   "cell_type": "code",
   "execution_count": null,
   "metadata": {},
   "outputs": [],
   "source": [
    "# load model checkpoint\n",
    "model_path = \"../runs/2d-3d-benchmark/yiw2kgep/checkpoints/epoch=60-step=2867-val_dice=0.85.ckpt\"\n",
    "checkpoint = torch.load(model_path)\n",
    "checkpoint = modify_checkpoint_keys(checkpoint)\n",
    "model_architecture = get_model(model_name=AttentionUnet.__name__, image_size=128)\n",
    "model_architecture.load_state_dict(checkpoint[\"state_dict\"], strict=False)"
   ]
  },
  {
   "cell_type": "code",
   "execution_count": null,
   "metadata": {},
   "outputs": [],
   "source": [
    "# load sample data\n",
    "test_datapath = \"../test_data/totalsegmentation_hips_test.csv\"\n",
    "test_transform = get_transform_from_model_name(\n",
    "    AttentionUnet.__name__, image_size=128, resolution=2.25\n",
    ")\n",
    "\n",
    "test_loader = DataLoader(\n",
    "    get_dataset(test_datapath, transforms=test_transform),\n",
    "    batch_size=1,\n",
    "    num_workers=1,\n",
    "    shuffle=False,\n",
    "    drop_last=False,\n",
    ")"
   ]
  },
  {
   "cell_type": "code",
   "execution_count": null,
   "metadata": {},
   "outputs": [],
   "source": [
    "expt = VolumeAsInputExperiment(model_architecture)\n",
    "for idx, item in enumerate(test_loader):\n",
    "    input, seg = expt.get_input_output_from_batch(item)\n",
    "    out = expt.predict_step(item, idx)\n",
    "    pred, gt = out[\"pred\"], out[\"gt\"]\n",
    "\n",
    "    fig, ax = plt.subplots(1, 2)\n",
    "    ax[0].imshow(input[0][0, 0, 0, :, :], cmap=\"gray\")\n",
    "    ax[1].imshow(input[0][0, 1, :, :, 0], cmap=\"gray\")"
   ]
  },
  {
   "cell_type": "code",
   "execution_count": null,
   "metadata": {},
   "outputs": [],
   "source": [
    "fig = ipv.figure()\n",
    "vol = ipv.volshow(pred[0, 0])\n",
    "ipv.show()"
   ]
  },
  {
   "cell_type": "code",
   "execution_count": null,
   "metadata": {},
   "outputs": [],
   "source": []
  }
 ],
 "metadata": {
  "kernelspec": {
   "display_name": "xrayto3dbenchmark-cuda_11",
   "language": "python",
   "name": "python3"
  },
  "language_info": {
   "codemirror_mode": {
    "name": "ipython",
    "version": 3
   },
   "file_extension": ".py",
   "mimetype": "text/x-python",
   "name": "python",
   "nbconvert_exporter": "python",
   "pygments_lexer": "ipython3",
   "version": "3.8.16"
  }
 },
 "nbformat": 4,
 "nbformat_minor": 2
}
