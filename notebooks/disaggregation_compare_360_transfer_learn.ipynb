{
 "cells": [
  {
   "cell_type": "code",
   "execution_count": 16,
   "metadata": {},
   "outputs": [],
   "source": [
    "import pandas as pd"
   ]
  },
  {
   "cell_type": "code",
   "execution_count": 17,
   "metadata": {},
   "outputs": [],
   "source": [
    "from XrayTo3DShape import VerseExcelSheet, VerseKeys"
   ]
  },
  {
   "cell_type": "code",
   "execution_count": 14,
   "metadata": {},
   "outputs": [],
   "source": [
    "verse_metadata = VerseExcelSheet('/mnt/SSD0/mahesh-home/xrayto3D-benchmark/meta_results/ryai190138_appendixe1.xlsx')"
   ]
  },
  {
   "cell_type": "code",
   "execution_count": 15,
   "metadata": {},
   "outputs": [],
   "source": [
    "def get_shape(row):\n",
    "    \"\"\"shape lambda\"\"\"\n",
    "    return verse_metadata.get_shape(verse_metadata.get_vertebra_keys(row[\"subject-id\"]))\n",
    "\n",
    "\n",
    "def get_severity(row):\n",
    "    \"\"\"severity lambda\"\"\"\n",
    "    return verse_metadata.get_severity(\n",
    "        verse_metadata.get_vertebra_keys(row[\"subject-id\"])\n",
    "    )\n",
    "\n",
    "\n",
    "def get_vertebra_level(row):\n",
    "    \"\"\"vertebra level\"\"\"\n",
    "    return verse_metadata.get_vertebra_level(\n",
    "        verse_metadata.get_vertebra_keys(row[\"subject-id\"])\n",
    "    )\n"
   ]
  },
  {
   "cell_type": "code",
   "execution_count": 9,
   "metadata": {},
   "outputs": [],
   "source": [
    "EVAL_LOG_CSV_PATH_TEMPLATE = \"/mnt/SSD0/mahesh-home/xrayto3D-benchmark/runs/2d-3d-benchmark/{run_id}/evaluation/metric-log.csv\""
   ]
  },
  {
   "cell_type": "code",
   "execution_count": 25,
   "metadata": {},
   "outputs": [],
   "source": [
    "comparison_runs = {'rand-init':('p3qkfyj5',\"/mnt/SSD0/mahesh-home/xrayto3D-benchmark/runs/2d-3d-benchmark/{run_id}/evaluation/metric-log.csv\"),\n",
    "'transfer-learn':('czyht2ac',\"/mnt/SSD0/mahesh-home/Towards-Foundation-Model-for-XrayTo3D/runs/2d-3d-foundation-model/{run_id}/evaluation/metric-log.csv\")}"
   ]
  },
  {
   "cell_type": "code",
   "execution_count": 29,
   "metadata": {},
   "outputs": [
    {
     "name": "stdout",
     "output_type": "stream",
     "text": [
      "level\n",
      " rand-init           &  0.75&  0.84&  0.86&  3.07&  2.37&  2.29&  0.81&  0.87&  0.85\\\\\n",
      "shape\n",
      " rand-init           &  0.84&  0.86&  0.84&  0.78&  2.38&  2.23&  2.67&  3.13&  0.86&  0.87&  0.83&  0.74\\\\\n",
      "severity\n",
      " rand-init           &  0.84&  0.88&  0.84&  0.74&  2.38&  1.77&  2.48&  4.37&  0.86&  0.91&  0.85&  0.65\\\\\n",
      "level\n",
      " transfer-learn      &  0.77&  0.86&  0.88&  2.75&  2.01&  2.17&  0.83&  0.89&  0.87\\\\\n",
      "shape\n",
      " transfer-learn      &  0.85&  0.88&  0.87&  0.83&  2.13&  1.88&  2.16&  2.56&  0.88&  0.91&  0.87&  0.82\\\\\n",
      "severity\n",
      " transfer-learn      &  0.85&  0.89&  0.87&  0.81&  2.13&  1.74&  2.02&  2.99&  0.88&  0.92&  0.89&  0.77\\\\\n"
     ]
    }
   ],
   "source": [
    "for model_type, (run_id,log_template) in comparison_runs.items():\n",
    "    input_log = EVAL_LOG_CSV_PATH_TEMPLATE.format(run_id=run_id)\n",
    "    df = pd.read_csv(input_log)\n",
    "    df[\"shape\"] = df.apply(get_shape, axis=\"columns\")\n",
    "    df[\"severity\"] = df.apply(get_severity, axis=\"columns\")\n",
    "    df[\"level\"] = df.apply(get_vertebra_level, axis=\"columns\")\n",
    "    row = f\"{model_type:20s}\"\n",
    "    for metric_type in [\"DSC\", \"HD95\", \"NSD\"]:\n",
    "        for level_type in [\n",
    "            VerseKeys.CERVICAL,\n",
    "            VerseKeys.THORACIC,\n",
    "            VerseKeys.LUMBAR,\n",
    "        ]:\n",
    "            row += f'& {df.groupby([\"level\"])[metric_type].mean()[level_type]:5.2f}'\n",
    "    row += r\"\\\\\"  # latex new line\n",
    "    print('level\\n',row)\n",
    "\n",
    "    row = f\"{model_type:20s}\"\n",
    "    for metric_type in [\"DSC\", \"HD95\", \"NSD\"]:\n",
    "        for level_type in [\n",
    "            VerseKeys.NORMAL,\n",
    "            VerseKeys.WEDGE,\n",
    "            VerseKeys.BICONCAVE,\n",
    "            VerseKeys.CRUSH,\n",
    "        ]:\n",
    "            row += f'& {df.groupby([\"shape\"])[metric_type].mean()[level_type]:5.2f}'\n",
    "    row += r\"\\\\\"  # latex new line    \n",
    "    print('shape\\n',row)\n",
    "    row = f\"{model_type:20s}\"\n",
    "    for metric_type in [\"DSC\", \"HD95\", \"NSD\"]:\n",
    "        for level_type in [\n",
    "            VerseKeys.NORMAL,\n",
    "            VerseKeys.MILD,\n",
    "            VerseKeys.MODERATE,\n",
    "            VerseKeys.SEVERE,\n",
    "        ]:\n",
    "            row += f'& {df.groupby([\"severity\"])[metric_type].mean()[level_type]:5.2f}'\n",
    "    row += r\"\\\\\"  # latex new line\n",
    "    print('severity\\n',row)"
   ]
  },
  {
   "cell_type": "code",
   "execution_count": null,
   "metadata": {},
   "outputs": [],
   "source": []
  }
 ],
 "metadata": {
  "kernelspec": {
   "display_name": "Python 3",
   "language": "python",
   "name": "python3"
  },
  "language_info": {
   "codemirror_mode": {
    "name": "ipython",
    "version": 3
   },
   "file_extension": ".py",
   "mimetype": "text/x-python",
   "name": "python",
   "nbconvert_exporter": "python",
   "pygments_lexer": "ipython3",
   "version": "3.8.16"
  }
 },
 "nbformat": 4,
 "nbformat_minor": 2
}
