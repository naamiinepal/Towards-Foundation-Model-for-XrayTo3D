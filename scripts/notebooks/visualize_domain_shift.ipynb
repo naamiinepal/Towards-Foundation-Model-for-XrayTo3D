{
 "cells": [
  {
   "cell_type": "code",
   "execution_count": null,
   "metadata": {},
   "outputs": [],
   "source": [
    "from XrayTo3DShape import MODEL_LABEL_COLOR, load_json"
   ]
  },
  {
   "cell_type": "code",
   "execution_count": null,
   "metadata": {},
   "outputs": [],
   "source": [
    "model_color_label = MODEL_LABEL_COLOR"
   ]
  },
  {
   "cell_type": "code",
   "execution_count": null,
   "metadata": {},
   "outputs": [],
   "source": [
    "hip_indomain_fp = \"../../domainshift_results/hip_indomain.json\"\n",
    "hip_indomain = load_json(hip_indomain_fp)\n",
    "\n",
    "hip_outdomain_kits_fp = \"../../domainshift_results/hip_outdomain_kits.json\"\n",
    "hip_outdomain_kits = load_json(hip_outdomain_kits_fp)\n",
    "\n",
    "hip_outdomain_clinic_fp = \"../../domainshift_results/hip_outdomain_clinic.json\"\n",
    "hip_outdomain_clinic = load_json(hip_outdomain_clinic_fp)\n",
    "\n",
    "hip_outdomain_clinic_metal_fp = \"../../domainshift_results/hip_outdomain_clinic_metal.json\"\n",
    "hip_outdomain_clinic_metal = load_json(hip_outdomain_clinic_metal_fp)\n",
    "\n",
    "vertebra_indomain_fp = \"../../domainshift_results/vertebra_indomain.json\"\n",
    "vertebra_indomain = load_json(vertebra_indomain_fp)\n",
    "\n",
    "vertebra_outdomain_rsna_fp = \"../../domainshift_results/vertebra_outdomain_rsna.json\"\n",
    "vertebra_outdomain_rsna = load_json(vertebra_outdomain_rsna_fp)"
   ]
  },
  {
   "cell_type": "code",
   "execution_count": null,
   "metadata": {},
   "outputs": [],
   "source": [
    "hip_outdomain_kits, hip_outdomain_clinic, hip_outdomain_clinic_metal, hip_indomain, vertebra_indomain, vertebra_outdomain_rsna"
   ]
  },
  {
   "cell_type": "code",
   "execution_count": null,
   "metadata": {},
   "outputs": [],
   "source": [
    "KEYS = [\n",
    "    \"SwinUNETR\",\n",
    "    \"AttentionUnet\",\n",
    "    \"TwoDPermuteConcat\",\n",
    "    \"UNet\",\n",
    "    \"MultiScale2DPermuteConcat\",\n",
    "    \"UNETR\",\n",
    "    \"TLPredictor\",\n",
    "    \"OneDConcat\",\n",
    "]"
   ]
  },
  {
   "cell_type": "code",
   "execution_count": null,
   "metadata": {},
   "outputs": [],
   "source": [
    "import matplotlib.pyplot as plt\n",
    "import scienceplots\n",
    "import tueplots\n",
    "from tueplots import figsizes, fontsizes\n",
    "\n",
    "plt.style.use([\"science\", \"no-latex\"])"
   ]
  },
  {
   "cell_type": "code",
   "execution_count": null,
   "metadata": {},
   "outputs": [],
   "source": [
    "# Increase the resolution of all the plots below\n",
    "plt.rcParams.update({\"figure.dpi\": 150})\n",
    "plt.rcParams.update(figsizes.neurips2021(nrows=1, ncols=4))\n",
    "plt.rcParams.update(fontsizes.neurips2021())\n",
    "\n",
    "\n",
    "fig, ax = plt.subplots(1, 4, sharey=\"all\")\n",
    "for model in KEYS:\n",
    "    ax[0].plot(\n",
    "        range(1, 3),\n",
    "        [hip_indomain[model], hip_outdomain_kits[model]],\n",
    "        \"-o\",\n",
    "        label=model,\n",
    "        markersize=2,\n",
    "        c=model_color_label[model],\n",
    "    )\n",
    "ax[0].set_xticks(range(1, 3), [\"in-domain\\n[TOTALSEG]\", \"domain-shift\\n[KITS19]\"], fontsize=6)\n",
    "ax[0].set_ylabel(\"DSC\")\n",
    "ax[0].set_xticks([], minor=True)\n",
    "ax[0].set_title(\"cohort shift\")\n",
    "ax[0].yaxis.set_tick_params(labelleft=True)\n",
    "\n",
    "for model in KEYS:\n",
    "    ax[1].plot(\n",
    "        range(1, 3),\n",
    "        [hip_indomain[model], hip_outdomain_clinic[model]],\n",
    "        \"-o\",\n",
    "        label=model,\n",
    "        markersize=2,\n",
    "        c=model_color_label[model],\n",
    "    )\n",
    "ax[1].set_xticks(range(1, 3), [\"in-domain\\n[TOTALSEG]\", \"domain-shift\\n[CLINIC]\"], fontsize=6)\n",
    "# ax[1].set_ylabel('DSC')\n",
    "ax[1].set_xticks([], minor=True)\n",
    "ax[1].set_title(\"Fractured Bone\")\n",
    "ax[1].yaxis.set_tick_params(labelleft=True)\n",
    "\n",
    "for model in KEYS:\n",
    "    ax[2].plot(\n",
    "        range(1, 3),\n",
    "        [vertebra_indomain[model], vertebra_outdomain_rsna[model]],\n",
    "        \"-o\",\n",
    "        label=model,\n",
    "        markersize=2,\n",
    "        c=model_color_label[model],\n",
    "    )\n",
    "ax[2].set_xticks(range(1, 3), [\"in-domain\\n[Verse19]\", \"domain-shift\\n[RSNACervical]\"], fontsize=6)\n",
    "# ax[2].set_ylabel('DSC')\n",
    "ax[2].set_xticks([], minor=True)\n",
    "ax[2].yaxis.set_tick_params(labelleft=True)\n",
    "\n",
    "# ax[2].set_title('X-ray with Bone Implants')\n",
    "\n",
    "for model in KEYS:\n",
    "    ax[3].plot(\n",
    "        range(1, 3),\n",
    "        [hip_indomain[model], hip_outdomain_clinic_metal[model]],\n",
    "        \"-o\",\n",
    "        label=model,\n",
    "        markersize=2,\n",
    "        c=model_color_label[model],\n",
    "    )\n",
    "ax[3].set_xticks(\n",
    "    range(1, 3), [\"in-domain\\n[TOTALSEG]\", \"domain-shift\\n[CLINIC-METAL]\"], fontsize=5\n",
    ")\n",
    "# ax[3].set_ylabel('DSC')\n",
    "ax[3].set_title(\"X-ray with Bone Implants\")\n",
    "ax[3].set_xticks([], minor=True)\n",
    "ax[3].yaxis.set_tick_params(labelleft=True)\n",
    "\n",
    "\n",
    "# plt.legend(loc=[3,0])\n",
    "plt.tight_layout()\n",
    "plt.savefig(\"../../visualizations/domain_shift_with_legend.pdf\")"
   ]
  },
  {
   "cell_type": "code",
   "execution_count": null,
   "metadata": {},
   "outputs": [],
   "source": [
    "latex_table = \"\"\n",
    "for model in KEYS:\n",
    "    print(\n",
    "        f\"{model} & {hip_indomain[model]*100:.2f} & {hip_outdomain_kits[model]*100:.2f} & {hip_indomain[model]*100 - hip_outdomain_kits[model]*100:.2f} & {hip_outdomain_clinic[model]*100:.2f} & {hip_indomain[model]*100 - hip_outdomain_clinic[model]*100:.2f} & {hip_outdomain_clinic_metal[model]*100:.2f} & {hip_indomain[model]*100 - hip_outdomain_clinic_metal[model]*100:.2f} & {vertebra_indomain[model]*100:.2f} & {vertebra_outdomain_rsna[model]*100:.2f} & {vertebra_indomain[model]*100 - vertebra_outdomain_rsna[model]*100:.2f}\\\\\\\\\"\n",
    "    )\n",
    "print(latex_table)"
   ]
  },
  {
   "cell_type": "code",
   "execution_count": null,
   "metadata": {},
   "outputs": [],
   "source": []
  }
 ],
 "metadata": {
  "kernelspec": {
   "display_name": "xrayto3dbenchmark-cuda_11",
   "language": "python",
   "name": "python3"
  },
  "language_info": {
   "codemirror_mode": {
    "name": "ipython",
    "version": 3
   },
   "file_extension": ".py",
   "mimetype": "text/x-python",
   "name": "python",
   "nbconvert_exporter": "python",
   "pygments_lexer": "ipython3",
   "version": "3.8.16"
  }
 },
 "nbformat": 4,
 "nbformat_minor": 2
}
