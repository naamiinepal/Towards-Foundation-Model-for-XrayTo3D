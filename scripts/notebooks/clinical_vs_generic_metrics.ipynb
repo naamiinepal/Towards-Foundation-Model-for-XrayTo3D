{
 "cells": [
  {
   "cell_type": "code",
   "execution_count": null,
   "metadata": {},
   "outputs": [],
   "source": [
    "import matplotlib.pyplot as plt\n",
    "import pandas as pd\n",
    "import scienceplots\n",
    "from sklearn.linear_model import LinearRegression\n",
    "from sklearn.metrics import r2_score\n",
    "from tueplots import fontsizes\n",
    "\n",
    "plt.style.use([\"science\", \"no-latex\"])\n",
    "from XrayTo3DShape import MODEL_NAMES, filter_wandb_run, get_run_from_model_name"
   ]
  },
  {
   "cell_type": "code",
   "execution_count": null,
   "metadata": {},
   "outputs": [],
   "source": [
    "fontsizes.neurips2022()"
   ]
  },
  {
   "cell_type": "code",
   "execution_count": null,
   "metadata": {},
   "outputs": [],
   "source": [
    "COLUMNS = [\"ASIS_L\", \"ASIS_R\", \"PT_L\", \"PT_R\", \"IS_L\", \"IS_R\", \"PSIS_L\", \"PSIS_R\"]\n",
    "ROWS = [\n",
    "    \"DSC\",\n",
    "    \"NSD\",\n",
    "    \"ASD\",\n",
    "    \"HD95\",\n",
    "]"
   ]
  },
  {
   "cell_type": "code",
   "execution_count": null,
   "metadata": {},
   "outputs": [],
   "source": [
    "generalized_metrics_template = \"../runs/2d-3d-benchmark/{run_id}/evaluation/metric-log.csv\"\n",
    "clinical_parameters_template = \"../runs/2d-3d-benchmark/{run_id}/evaluation/hip_landmark_error.csv\""
   ]
  },
  {
   "cell_type": "code",
   "execution_count": null,
   "metadata": {},
   "outputs": [],
   "source": [
    "ANATOMY = \"hip\"\n",
    "runs = filter_wandb_run(anatomy=ANATOMY, tags=[\"model-compare\", \"dropout\"])\n",
    "model = MODEL_NAMES[1]\n",
    "run = get_run_from_model_name(model, runs)\n",
    "print(run.id, model)"
   ]
  },
  {
   "cell_type": "code",
   "execution_count": null,
   "metadata": {},
   "outputs": [],
   "source": [
    "clinical_csv = pd.read_csv(clinical_parameters_template.format(run_id=run.id))\n",
    "generalized_metric_csv = pd.read_csv(generalized_metrics_template.format(run_id=run.id))"
   ]
  },
  {
   "cell_type": "code",
   "execution_count": null,
   "metadata": {},
   "outputs": [],
   "source": [
    "generalized_metric_csv[\"id\"] = generalized_metric_csv[\"subject-id\"].str[:5]"
   ]
  },
  {
   "cell_type": "code",
   "execution_count": null,
   "metadata": {},
   "outputs": [],
   "source": [
    "merged_csv = pd.merge(clinical_csv, generalized_metric_csv, on=\"id\", how=\"left\")"
   ]
  },
  {
   "cell_type": "code",
   "execution_count": null,
   "metadata": {},
   "outputs": [],
   "source": [
    "subplot_sz = 5\n",
    "rows = 1\n",
    "cols = len(COLUMNS)\n",
    "fig, ax = plt.subplots(rows, cols, figsize=(cols * subplot_sz, rows * subplot_sz))\n",
    "rw = \"DSC\"\n",
    "for clm_idx, clm in enumerate(COLUMNS):\n",
    "\n",
    "    threshold = merged_csv[clm].quantile(0.90)\n",
    "    merged_filtered_csv = merged_csv[merged_csv[clm] < threshold]\n",
    "    # merged_filtered_csv = merged_csv\n",
    "\n",
    "    dsc = merged_filtered_csv[rw]\n",
    "    y = merged_filtered_csv[clm]\n",
    "\n",
    "    regressor = LinearRegression().fit(dsc.values.reshape(-1, 1), y.values)\n",
    "    y_pred = regressor.predict(dsc.values.reshape(-1, 1))\n",
    "    r2 = r2_score(y, y_pred)\n",
    "\n",
    "    ax[clm_idx].plot(dsc, y_pred)\n",
    "    ax[clm_idx].scatter(dsc, y, s=subplot_sz * 5)\n",
    "\n",
    "    ax[clm_idx].set_title(r\"$R^2={:.2f}$\".format(r2), fontsize=25)\n",
    "    # ax[idx].xaxis.set_ticklabels([])\n",
    "    # ax[idx].yaxis.set_ticklabels([])\n",
    "    ax[clm_idx].set_xlabel(rw, fontsize=25)\n",
    "    ax[clm_idx].set_ylabel(clm, fontsize=25)\n",
    "    ax[clm_idx].xaxis.set_tick_params(labelsize=25)\n",
    "    ax[clm_idx].yaxis.set_tick_params(labelsize=25)\n",
    "plt.tight_layout()\n",
    "plt.savefig(\"hip_dice_clinical_relationship_dsc.pdf\")"
   ]
  },
  {
   "cell_type": "code",
   "execution_count": null,
   "metadata": {},
   "outputs": [],
   "source": [
    "subplot_sz = 5\n",
    "rows = len(ROWS)\n",
    "cols = len(COLUMNS)\n",
    "fig, ax = plt.subplots(rows, cols, figsize=(cols * subplot_sz, rows * subplot_sz))\n",
    "for rw_idx, rw in enumerate(ROWS):\n",
    "    for clm_idx, clm in enumerate(COLUMNS):\n",
    "\n",
    "        threshold = merged_csv[clm].quantile(0.90)\n",
    "        merged_filtered_csv = merged_csv[merged_csv[clm] < threshold]\n",
    "        # merged_filtered_csv = merged_csv\n",
    "\n",
    "        dsc = merged_filtered_csv[rw]\n",
    "        y = merged_filtered_csv[clm]\n",
    "\n",
    "        regressor = LinearRegression().fit(dsc.values.reshape(-1, 1), y.values)\n",
    "        y_pred = regressor.predict(dsc.values.reshape(-1, 1))\n",
    "        r2 = r2_score(y, y_pred)\n",
    "\n",
    "        ax[rw_idx][clm_idx].plot(dsc, y_pred)\n",
    "        ax[rw_idx][clm_idx].scatter(dsc, y, s=subplot_sz * 5)\n",
    "\n",
    "        ax[rw_idx][clm_idx].set_title(r\"$R^2={:.2f}$\".format(r2), fontsize=20)\n",
    "        # ax[idx].xaxis.set_ticklabels([])\n",
    "        # ax[idx].yaxis.set_ticklabels([])\n",
    "        # ax[rw_idx][clm_idx].set_xlabel(rw,fontsize=20)\n",
    "        # ax[rw_idx][clm_idx].set_ylabel(clm,fontsize=20)\n",
    "plt.savefig(\"hip_dice_clinical_relationship.pdf\")"
   ]
  },
  {
   "cell_type": "code",
   "execution_count": null,
   "metadata": {},
   "outputs": [],
   "source": []
  },
  {
   "cell_type": "code",
   "execution_count": null,
   "metadata": {},
   "outputs": [],
   "source": [
    "clinical_csv.head(), generalized_metric_csv.head()"
   ]
  },
  {
   "cell_type": "code",
   "execution_count": null,
   "metadata": {},
   "outputs": [],
   "source": []
  }
 ],
 "metadata": {
  "kernelspec": {
   "display_name": "xrayto3dbenchmark-cuda_11",
   "language": "python",
   "name": "python3"
  },
  "language_info": {
   "codemirror_mode": {
    "name": "ipython",
    "version": 3
   },
   "file_extension": ".py",
   "mimetype": "text/x-python",
   "name": "python",
   "nbconvert_exporter": "python",
   "pygments_lexer": "ipython3",
   "version": "3.8.16"
  }
 },
 "nbformat": 4,
 "nbformat_minor": 2
}
